{
  "nbformat": 4,
  "nbformat_minor": 1,
  "metadata": {
    "language_info": {
      "nbconvert_exporter": "python",
      "pygments_lexer": "ipython3",
      "mimetype": "text/x-python",
      "name": "python",
      "codemirror_mode": {
        "name": "ipython",
        "version": 3
      },
      "file_extension": ".py",
      "version": "3.6.1"
    },
    "kernelspec": {
      "display_name": "Python 3",
      "language": "python",
      "name": "python3"
    }
  },
  "cells": [
    {
      "execution_count": null,
      "outputs": [],
      "metadata": {
        "_uuid": "baf675dce621bcab63161ca63d34a6e0e5a664d7",
        "collapsed": true,
        "_cell_guid": "0a23d903-ae4d-4a71-93f6-ebd1fb1116d8"
      },
      "cell_type": "code",
      "source": [
        "import pandas as pd\n",
        "import numpy as np\n",
        "import matplotlib.pyplot as plt\n",
        "import datetime as dt\n",
        "from datetime import datetime\n",
        "%matplotlib inline\n"
      ]
    },
    {
      "execution_count": null,
      "outputs": [],
      "metadata": {
        "_uuid": "2f29bb9c34f871f953b2b1c119ad3838f73f4c74",
        "_cell_guid": "62523096-3d17-47b0-8c36-397cd90aad68"
      },
      "cell_type": "code",
      "source": [
        "prop =pd.read_csv('../input/properties_2016.csv')\n",
        "prop.shape"
      ]
    },
    {
      "execution_count": null,
      "outputs": [],
      "metadata": {
        "_uuid": "5d8eb1a26d6828fee6fbef7df37f1317595c0985",
        "_cell_guid": "0e741f88-163d-467b-9ca8-eeb0a2f1258a"
      },
      "cell_type": "code",
      "source": [
        "prop.head()"
      ]
    },
    {
      "execution_count": null,
      "outputs": [],
      "metadata": {
        "_uuid": "303b3e9c1cef46157ad8e5988fe454ecb78b97df",
        "_cell_guid": "11df536f-a8be-420f-ae91-be7d3bc3efea"
      },
      "cell_type": "code",
      "source": [
        "train =pd.read_csv('../input/train_2016_v2.csv', parse_dates=['transactiondate']) \n",
        "## parse dates, otherwise date appears as object and need to be converted\n",
        "train.shape\n"
      ]
    },
    {
      "execution_count": null,
      "outputs": [],
      "metadata": {
        "_uuid": "4662d2f7a60f7bee8a12a41e37551f57a6103d25",
        "_cell_guid": "3b52fba5-f5d6-4cb7-8823-494b897f42cb"
      },
      "cell_type": "code",
      "source": [
        "train.head()"
      ]
    },
    {
      "source": [
        "## Questions in the mind (Data Exploration):\n",
        "---\n",
        "(Edited as an when i figure out thing)\n",
        "* What is the target variable? - *log Error in train*.\n",
        "    - Continuous or discrete? - *continuous [-4,4]*\n",
        "    - If discrete what is the range? Skewed distribution?\n",
        "    - Log variables\n",
        "* How are the two data sets related?\n",
        "    - What is the primary key? - *using parcelid alone*\n",
        "* Types of columns in training dataset? All float/string/categorical objects ? - *yes. all 3.*\n",
        "* Data Transformation\n",
        "    - In right scale or need transformation like log or exp?\n",
        "* Amount of Null Values\n",
        "    - Columns with all/almost most  values Null\n",
        "    - Null value handling\n",
        "* How are some of the variables related to target variable? (Univariate Analysis)\n",
        "   - Top 20 impacting variables\n",
        "   - Top +ve or -ve correlated variables\n",
        "* How are the variables related among themselves? (Bi variate) --> To avoid correlated variables\n",
        "* How are they related to Target variable (Multi variate)\n",
        "* Try different models and see their performance"
      ],
      "metadata": {
        "_uuid": "64534b23cac0e15a00a61f1c244d03b07fa3af70",
        "_cell_guid": "828b7e39-81aa-4c40-a7d5-f891cc852540"
      },
      "cell_type": "markdown"
    },
    {
      "execution_count": null,
      "outputs": [],
      "metadata": {
        "_uuid": "a22aa8ad5d57b3ebfbb15085d92eb1185d2e48da",
        "_cell_guid": "dce1794f-7d9e-46e3-bfe2-03f204f58d22"
      },
      "cell_type": "code",
      "source": [
        "prop.head()"
      ]
    },
    {
      "source": [
        "## Exploring train dataset\n",
        "\n",
        "**1. Parcelid column**"
      ],
      "metadata": {
        "_uuid": "4a75b4e05e14b4c667c56d8c6aef7c4d81447c90",
        "_cell_guid": "6d1ac059-2a62-4a77-a858-ffb3914c53a6"
      },
      "cell_type": "markdown"
    },
    {
      "execution_count": null,
      "outputs": [],
      "metadata": {
        "_uuid": "6146dc42c3bb3919a54c18df0fda39f5a57f9227",
        "_cell_guid": "0fa6d779-1e24-4eb1-998f-82bde1f0ed25"
      },
      "cell_type": "code",
      "source": [
        "train.parcelid.value_counts().head()"
      ]
    },
    {
      "execution_count": null,
      "outputs": [],
      "metadata": {
        "_uuid": "bef33e93b68b0e7643c27635caa68e4e38766c7b",
        "_cell_guid": "d9d22285-9b5a-4005-9e39-45324a7fe356"
      },
      "cell_type": "code",
      "source": [
        "#(train.parcelid.value_counts().reset_index())['parcelid'].head()\n",
        "(train.parcelid.value_counts().reset_index())['parcelid'].value_counts()\n",
        "## Most parcelids in train data are unique. only 124 items repeat"
      ]
    },
    {
      "source": [
        "**2. logerror column exploration**"
      ],
      "metadata": {
        "_uuid": "2a0fd52a884628084ac3b52ec9ba56053f58506c",
        "_cell_guid": "91c90912-08ec-4320-8a5a-ccbe34b8117f"
      },
      "cell_type": "markdown"
    },
    {
      "execution_count": null,
      "outputs": [],
      "metadata": {
        "_uuid": "5ef23ef23131f87c783f1e21c25d1821b8db7784",
        "_cell_guid": "edbbeab9-f913-43e3-952d-698acb63636f"
      },
      "cell_type": "code",
      "source": [
        "train.describe() ## target var: logerror, continous [-4.6,4.7]. Q1,Q3-[-0.02,.03]"
      ]
    },
    {
      "execution_count": null,
      "outputs": [],
      "metadata": {
        "_uuid": "45cb405939ff850b7e96758dfb6d98f8e68857be",
        "_cell_guid": "b557870a-2364-4564-8ac4-d8d49a5d5456"
      },
      "cell_type": "code",
      "source": [
        "plt.figure(figsize=(12,5))\n",
        "plt.hist(train.logerror.values,bins=50,range=(-1,1))\n",
        "plt.xlabel('logerror')\n",
        "plt.ylabel('frequency')\n",
        "plt.title('Distribution of log error')\n",
        "plt.show()"
      ]
    },
    {
      "source": [
        "Actually the target variable shows normal distribution, except on the extremes, with  tail on either side"
      ],
      "metadata": {
        "_uuid": "9ba5fd3229b150df15f4e732018d65c392b565d3",
        "_cell_guid": "b02afc9c-f02f-4243-bc25-765b9a6f7a76"
      },
      "cell_type": "markdown"
    },
    {
      "source": [
        "**3. transaction date column exploration**"
      ],
      "metadata": {
        "_uuid": "3eb34c2ed5e031b65aecf70748d4f1494b92ecf6",
        "_cell_guid": "ed7c0dbd-e6c2-4b32-b975-1f79e4c0f2fd"
      },
      "cell_type": "markdown"
    },
    {
      "execution_count": null,
      "outputs": [],
      "metadata": {
        "_uuid": "076759f4a300c094b39c41cd2de8bef94e8bb98e",
        "_cell_guid": "8b8698f3-46ff-4fb8-a81c-8c8d4f57fb05"
      },
      "cell_type": "code",
      "source": [
        "train.transactiondate.value_counts().head() ## idea abt what dates are present"
      ]
    },
    {
      "execution_count": null,
      "outputs": [],
      "metadata": {
        "_uuid": "150599e35a33e4622f5e3a544a2dfda485abb440",
        "_cell_guid": "9b29ab09-fa99-4f66-9371-29fc21ba287e"
      },
      "cell_type": "code",
      "source": [
        "plt.hist(train.transactiondate.values, bins=366) ## just for an year\n",
        "plt.xlabel(\"Transaction date\")\n",
        "plt.ylabel(\"freq\")\n",
        "plt.show()"
      ]
    },
    {
      "source": [
        "Two things: \n",
        "1. #transactions increased as we progress in the year ( #transactions vs month might help).\n",
        "2. Some days of have high transactions and some days might have low transactions ( #transactions vs day of the week or day of the month)"
      ],
      "metadata": {
        "_uuid": "5f33798f23fe448947490b097d9669d987314ffb",
        "_cell_guid": "b9b4166c-ae4f-4161-a16f-23c68172554b"
      },
      "cell_type": "markdown"
    },
    {
      "execution_count": null,
      "outputs": [],
      "metadata": {
        "_uuid": "43e96c5b77d3c74cf372215b8d1c659f28f19bc5",
        "_cell_guid": "b565d3ea-2dca-407f-94b2-3a4a492f0e58"
      },
      "cell_type": "code",
      "source": [
        "train['transactionmonth']=train.transactiondate.dt.month.values\n",
        "month_df = train['transactionmonth'].value_counts()\n",
        "#plt.hist(x=month_df.index, y=month_df.values) ## Not working\n",
        "\n",
        "plt.figure(figsize=(12,5))\n",
        "plt.bar(month_df.index,month_df.values) \n",
        "\n",
        "plt.xlabel(\"Transaction month\")\n",
        "plt.ylabel(\"freq\")\n",
        "plt.title('Distribution of transactions over different months')\n",
        "plt.show()\n",
        "#month_df"
      ]
    },
    {
      "source": [
        "Data present for first 10 months. some sample data for oct,nov,dec."
      ],
      "metadata": {
        "_uuid": "0e4ed1cd550a548c16a37202993e90d02c9e5848",
        "_cell_guid": "84a0e326-c5a9-470f-a40b-75a18c63fbcb"
      },
      "cell_type": "markdown"
    },
    {
      "execution_count": null,
      "outputs": [],
      "metadata": {
        "_uuid": "365120a55e1a1bfbd1d4fd6936a4e502dee8dd7c",
        "_cell_guid": "59623d91-0969-477b-afa9-70ffdd05bdc3"
      },
      "cell_type": "code",
      "source": [
        "train['transactionday']=train.transactiondate.dt.day.values\n",
        "day_df = train['transactionday'].value_counts()\n",
        "#plt.hist(x=month_df.index, y=month_df.values) ## Not working\n",
        "\n",
        "plt.figure(figsize=(12,5))\n",
        "plt.bar(day_df.index,day_df.values) \n",
        "\n",
        "plt.xlabel(\"Transaction day\")\n",
        "plt.ylabel(\"freq\")\n",
        "plt.title('Distribution of transactions over different days of the month')\n",
        "plt.show()\n",
        "#month_df\n"
      ]
    },
    {
      "source": [
        "No real pattern based in the dates. Beginning and end of the month may be higher transactions, and not many months have 31days"
      ],
      "metadata": {
        "_uuid": "4f293c3a55236d00710704eed313a0660a382f88",
        "_cell_guid": "51c2f4f8-d2d2-44e6-afdd-884e383de3d5"
      },
      "cell_type": "markdown"
    },
    {
      "execution_count": null,
      "outputs": [],
      "metadata": {
        "_uuid": "77a91436bd22e871466dc4af2715080ba28fb4a9",
        "_cell_guid": "b20decd2-729d-4977-a37e-489a953e5f47"
      },
      "cell_type": "code",
      "source": [
        "train['transactiondayofweek']=train.transactiondate.dt.dayofweek.values\n",
        "transactiondayofweek_df = train['transactiondayofweek'].value_counts()\n",
        "#plt.hist(x=month_df.index, y=month_df.values) ## Not working\n",
        "\n",
        "plt.figure(figsize=(12,5))\n",
        "plt.bar(transactiondayofweek_df.index,transactiondayofweek_df.values) \n",
        "\n",
        "plt.xlabel(\"Transaction day of the week\")\n",
        "plt.ylabel(\"freq\")\n",
        "plt.title('Distribution of transactions over different days of the week ( Monday=0, Sunday=6)')\n",
        "plt.show()"
      ]
    },
    {
      "source": [
        "Increase in number of transactions in the due course of the week. Friday higher number of transactions"
      ],
      "metadata": {
        "_uuid": "3686bec89ae8cbcab87216ae8c443da186e1d959",
        "_cell_guid": "4eeeb71e-06a4-4ad8-9cfb-5b46cc77f938"
      },
      "cell_type": "markdown"
    },
    {
      "source": [
        "## Prop table exploration"
      ],
      "metadata": {
        "_uuid": "449262e3f15d5bad17e35b3907a87435c98ee162",
        "_cell_guid": "96706bce-1468-4da9-a749-6d7850675fee"
      },
      "cell_type": "markdown"
    },
    {
      "execution_count": null,
      "outputs": [],
      "metadata": {
        "_uuid": "4536ede082186e141b56acb4faba68d9b3e1e1a8",
        "_cell_guid": "3809334e-c2b9-4fa5-9d8c-5f8082ec5d2a"
      },
      "cell_type": "code",
      "source": [
        "prop.head()"
      ]
    },
    {
      "execution_count": null,
      "outputs": [],
      "metadata": {
        "_uuid": "f5f50db8bf6ca3daf7ad2d16abc64f208a6f14bf",
        "_cell_guid": "341e0b8d-977e-4e22-aef3-bc11216f5ce6"
      },
      "cell_type": "code",
      "source": [
        "prop.dtypes.value_counts()"
      ]
    },
    {
      "execution_count": null,
      "outputs": [],
      "metadata": {
        "_uuid": "f1c3c67de1828c61523c64ceae61d795cf10104e",
        "_cell_guid": "6dd23e27-65b0-4890-9147-c5c286fd22f8"
      },
      "cell_type": "code",
      "source": [
        "prop.describe()"
      ]
    },
    {
      "source": [
        "Basementsqft, yardbuildingsqft26, numberofstories, structure tax value dollarcnt, taxvaluedollarcnt, taxamount might require some transformation. Continuous values."
      ],
      "metadata": {
        "_uuid": "749cc95bd5c45b3c85eeea10b0a3ac3fda6efe0a",
        "_cell_guid": "29d71bc6-9900-4b25-9790-25a5162e3ce8"
      },
      "cell_type": "markdown"
    },
    {
      "execution_count": null,
      "outputs": [],
      "metadata": {
        "_uuid": "3c4b1927396f3368a008357e329c8d6c8255dab0",
        "_cell_guid": "af706b27-53f6-4928-aedc-217100da1272"
      },
      "cell_type": "code",
      "source": [
        "## Merging data\n",
        "train_prop = pd.merge(train,prop,how='left',on='parcelid')\n",
        "train_prop.head()\n"
      ]
    },
    {
      "execution_count": null,
      "outputs": [],
      "metadata": {
        "_uuid": "e9c08b5ce89f3a1a7292eabe514251edf244bf69",
        "collapsed": true,
        "_cell_guid": "15e998aa-9442-47e5-89dc-379fb4821648"
      },
      "cell_type": "code",
      "source": [
        "## Sample model\n",
        "train_prod = pd.merge(train,prop,   how='left', on='parcelid')\n",
        "median_val = train_prod.median(axis=0)\n",
        "train_prod = train_prod.fillna(median_val,inplace=True)\n",
        "train_y=train_prod.logerror\n",
        "\n",
        "cat_cols = [\"hashottuborspa\", \"propertycountylandusecode\", \"propertyzoningdesc\", \"fireplaceflag\", \"taxdelinquencyflag\"]\n",
        "train_x= train_prod.drop(['parcelid','logerror','transactionday','transactiondate','transactiondayofweek','transactionmonth']+cat_cols,axis=1)\n"
      ]
    },
    {
      "execution_count": null,
      "outputs": [],
      "metadata": {
        "_uuid": "151bf80af6a68b51173977983b8cfaf28f7a6941",
        "collapsed": true,
        "_cell_guid": "1fd26b8f-404e-4221-87e3-f90879bbbc03"
      },
      "cell_type": "code",
      "source": [
        "test_df = prop\n",
        "test_x = test_df.drop(cat_cols,axis=1)"
      ]
    },
    {
      "execution_count": null,
      "outputs": [],
      "metadata": {
        "_uuid": "e5a049d02ab5658d64a8c92905877c48697532b1",
        "_cell_guid": "e8be65d8-dddb-4261-a3c5-65afe726156a"
      },
      "cell_type": "code",
      "source": [
        "import xgboost as xgb\n",
        "xgb_params = {\n",
        "    'eta': 0.05,\n",
        "    'max_depth': 8,\n",
        "    'subsample': 0.7,\n",
        "    'colsample_bytree': 0.7,\n",
        "    'objective': 'reg:linear',\n",
        "    'silent': 1,\n",
        "    'seed' : 0\n",
        "}\n",
        "\n",
        "dtrain= xgb.DMatrix(train_x, train_y, feature_names= train_x.columns.values)\n",
        "model=xgb.train(dict(xgb_params),dtrain, num_boost_round=100,verbose_eval=10)"
      ]
    },
    {
      "execution_count": null,
      "outputs": [],
      "metadata": {
        "_uuid": "70b26ee2a0ee98b1e8e74e077ffc9608d3f812ff"
      },
      "cell_type": "code",
      "source": [
        "fig, ax = plt.subplots(figsize=(10,10))\n",
        "xgb.plot_importance(model,max_num_features=20,title='Feature Importance',ax=ax,height=0.5)\n",
        "plt.show()"
      ]
    }
  ]
}