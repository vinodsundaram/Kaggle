{
  "cells": [
    {
      "metadata": {
        "collapsed": false,
        "_uuid": "6043e7e47ed543a6ff62b27744e3e53899fe9889",
        "_execution_state": "idle"
      },
      "source": "This notebook is a simple data exploration on the sberbank dataset",
      "execution_count": null,
      "cell_type": "markdown",
      "outputs": []
    },
    {
      "cell_type": "code",
      "metadata": {
        "_uuid": "a98f773a069b85a2ab848be15287497290023553",
        "_execution_state": "idle"
      },
      "source": "import numpy as np # linear algebra\nimport pandas as pd # data processing, CSV file I/O (e.g. pd.read_csv)\nfrom sklearn.linear_model import LinearRegression, Lasso, LassoCV\nimport matplotlib.pyplot as plt\n\n%matplotlib inline\n\n# from scipy.stats import \n",
      "outputs": [
        {
          "output_type": "stream",
          "name": "stdout",
          "text": "macro.csv\nsample_submission.csv\ntest.csv\ntrain.csv\n\n"
        }
      ],
      "execution_count": 45
    },
    {
      "metadata": {
        "collapsed": false,
        "_uuid": "e2406e969c8242725c98fd593488271871238f0d",
        "_execution_state": "idle"
      },
      "source": "train = pd.read_csv(\"../input/train.csv\")\ntest = pd.read_csv(\"../input/test.csv\")\nmacro = pd.read_csv(\"../input/macro.csv\")\n",
      "execution_count": 3,
      "cell_type": "code",
      "outputs": []
    },
    {
      "metadata": {
        "collapsed": false,
        "_uuid": "f154d956b218d7fc8e5ce965629f45f7069814d1",
        "_execution_state": "idle"
      },
      "source": "train.price_doc.describe()",
      "execution_count": 6,
      "cell_type": "code",
      "outputs": [
        {
          "output_type": "execute_result",
          "data": {
            "text/plain": "count    3.047100e+04\nmean     7.123035e+06\nstd      4.780111e+06\nmin      1.000000e+05\n25%      4.740002e+06\n50%      6.274411e+06\n75%      8.300000e+06\nmax      1.111111e+08\nName: price_doc, dtype: float64"
          },
          "metadata": {},
          "execution_count": 6
        }
      ]
    },
    {
      "metadata": {
        "collapsed": false,
        "_uuid": "750a51b4aca9505a26821015a2fc1d3520e35e6e",
        "_execution_state": "idle"
      },
      "source": "train=pd.merge(train,macro,on=\"timestamp\",how=\"left\")\ntest=pd.merge(test,macro,on=\"timestamp\",how=\"left\")\n\ntrain.shape ## 30471, 391 \ntest.shape ## 7662,390",
      "execution_count": 7,
      "cell_type": "code",
      "outputs": []
    },
    {
      "metadata": {
        "collapsed": false,
        "_uuid": "d2538c36ef74696623e8b95711172ed0d9c48bc3",
        "_execution_state": "idle"
      },
      "source": "Lets start the exploration with the target variable price_doc.",
      "execution_count": null,
      "cell_type": "markdown",
      "outputs": []
    },
    {
      "metadata": {
        "collapsed": false,
        "_uuid": "9cc1f300e9bd4c90c3dc560e5513e372256c4c3b",
        "_execution_state": "idle"
      },
      "source": "plt.hist(train.price_doc.values,bins=100)\nplt.show()",
      "execution_count": 53,
      "cell_type": "code",
      "outputs": [
        {
          "output_type": "display_data",
          "data": {
            "text/plain": "<matplotlib.figure.Figure at 0x7ff4873b4a90>",
            "image/png": "[encoded data removed]"
          },
          "metadata": {}
        }
      ]
    },
    {
      "metadata": {
        "collapsed": false,
        "_uuid": "97fe82381a7224b9d65ffec54aea21cbe3184e35",
        "_execution_state": "idle"
      },
      "source": "b\nplt.scatter(range(train.shape[0]), np.sort(train.price_doc.values))\nplt.xlabel(\"id\")\nplt.ylabel(\"price_doc\")\nplt.show()",
      "execution_count": 48,
      "cell_type": "code",
      "outputs": [
        {
          "output_type": "display_data",
          "data": {
            "text/plain": "<matplotlib.figure.Figure at 0x7ff486c9c6a0>",
            "image/png": "[encoded data removed]"
          },
          "metadata": {}
        }
      ]
    },
    {
      "metadata": {
        "collapsed": false,
        "_uuid": "e4a514d8ed595a42b8d66dab1823c0ca65d3a84e",
        "_execution_state": "idle"
      },
      "source": "Close to 25000 entries have values around 0 to 0.2e8. From the above two graphs, we have a long tail for values in the range of 0.2e8 to 1e8",
      "execution_count": null,
      "cell_type": "markdown",
      "outputs": []
    },
    {
      "metadata": {
        "collapsed": false,
        "_uuid": "014507911d4b9c469f6b4a4d3994f6e180010f5e",
        "_execution_state": "idle"
      },
      "source": "plt.hist(np.log1p(train.price_doc.values))\nplt.xlabel(\"bins of log(price_doc)\")\nplt.ylabel(\"Frequency\")\nplt.show()",
      "execution_count": 47,
      "cell_type": "code",
      "outputs": [
        {
          "output_type": "display_data",
          "data": {
            "text/plain": "<matplotlib.figure.Figure at 0x7ff48a444fd0>",
            "image/png": "[encoded data removed]"
          },
          "metadata": {}
        }
      ]
    },
    {
      "metadata": {
        "collapsed": false,
        "_uuid": "a66252321a1627589a97b7baac1fb80ade8d6c15",
        "_execution_state": "idle"
      },
      "source": "",
      "execution_count": null,
      "cell_type": "code",
      "outputs": []
    }
  ],
  "metadata": {
    "language_info": {
      "name": "python",
      "version": "3.6.0",
      "mimetype": "text/x-python",
      "codemirror_mode": {
        "name": "ipython",
        "version": 3
      },
      "pygments_lexer": "ipython3",
      "nbconvert_exporter": "python",
      "file_extension": ".py"
    },
    "kernelspec": {
      "display_name": "Python 3",
      "language": "python",
      "name": "python3"
    }
  },
  "nbformat": 4,
  "nbformat_minor": 0
}